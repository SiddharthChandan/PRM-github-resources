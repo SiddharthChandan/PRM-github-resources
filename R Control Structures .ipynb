{
 "cells": [
  {
   "cell_type": "markdown",
   "metadata": {},
   "source": [
    "# R Control Structures"
   ]
  },
  {
   "cell_type": "markdown",
   "metadata": {},
   "source": [
    "Priyaranjan Mohanty"
   ]
  },
  {
   "cell_type": "code",
   "execution_count": null,
   "metadata": {},
   "outputs": [],
   "source": []
  },
  {
   "cell_type": "markdown",
   "metadata": {},
   "source": [
    "1) If Control Structure \n",
    "------------"
   ]
  },
  {
   "cell_type": "code",
   "execution_count": 1,
   "metadata": {},
   "outputs": [
    {
     "name": "stdout",
     "output_type": "stream",
     "text": [
      "[1] \"Both Strings are same \"\n"
     ]
    }
   ],
   "source": [
    "if ( 'DS' == 'DS') {\n",
    "    print ( 'Both Strings are same ')\n",
    "}"
   ]
  },
  {
   "cell_type": "code",
   "execution_count": null,
   "metadata": {},
   "outputs": [],
   "source": []
  },
  {
   "cell_type": "markdown",
   "metadata": {},
   "source": [
    "2) If Else Control Structure\n",
    "-----"
   ]
  },
  {
   "cell_type": "code",
   "execution_count": 3,
   "metadata": {},
   "outputs": [
    {
     "name": "stdout",
     "output_type": "stream",
     "text": [
      "[1] \"Both Strings are NOT same \"\n"
     ]
    }
   ],
   "source": [
    "if ( 'DS' == 'AI') {\n",
    "    print ( 'Both Strings are same ')\n",
    "} else {\n",
    "    print ( 'Both Strings are NOT same ')\n",
    "}"
   ]
  },
  {
   "cell_type": "code",
   "execution_count": null,
   "metadata": {},
   "outputs": [],
   "source": []
  },
  {
   "cell_type": "markdown",
   "metadata": {},
   "source": [
    "3) If Else If Control Structure \n",
    "--------"
   ]
  },
  {
   "cell_type": "code",
   "execution_count": 6,
   "metadata": {},
   "outputs": [
    {
     "name": "stdout",
     "output_type": "stream",
     "text": [
      "[1] \"Given Number is greater than 0 \"\n"
     ]
    }
   ],
   "source": [
    "Nmbr <- 5\n",
    "\n",
    "if ( Nmbr < 0 ) {\n",
    "    print ( 'Given Number is less than 0 ')\n",
    "} else if(Nmbr == 0) {\n",
    "    print ( 'Given Number is equal to 0 ')\n",
    "} else {\n",
    "    print ( 'Given Number is greater than 0 ')\n",
    "}"
   ]
  },
  {
   "cell_type": "code",
   "execution_count": 7,
   "metadata": {},
   "outputs": [
    {
     "name": "stdout",
     "output_type": "stream",
     "text": [
      "[1] \"Given Number is equal to 0 \"\n"
     ]
    }
   ],
   "source": [
    "Nmbr <- 0\n",
    "\n",
    "if ( Nmbr < 0 ) {\n",
    "    print ( 'Given Number is less than 0 ')\n",
    "} else if(Nmbr == 0) {\n",
    "    print ( 'Given Number is equal to 0 ')\n",
    "} else {\n",
    "    print ( 'Given Number is greater than 0 ')\n",
    "}"
   ]
  },
  {
   "cell_type": "code",
   "execution_count": 8,
   "metadata": {},
   "outputs": [
    {
     "name": "stdout",
     "output_type": "stream",
     "text": [
      "[1] \"Given Number is less than 0 \"\n"
     ]
    }
   ],
   "source": [
    "Nmbr <- -2\n",
    "\n",
    "if ( Nmbr < 0 ) {\n",
    "    print ( 'Given Number is less than 0 ')\n",
    "} else if(Nmbr == 0) {\n",
    "    print ( 'Given Number is equal to 0 ')\n",
    "} else {\n",
    "    print ( 'Given Number is greater than 0 ')\n",
    "}"
   ]
  },
  {
   "cell_type": "code",
   "execution_count": null,
   "metadata": {},
   "outputs": [],
   "source": []
  },
  {
   "cell_type": "markdown",
   "metadata": {},
   "source": [
    "4) WHILE Control Structure \n",
    "--"
   ]
  },
  {
   "cell_type": "code",
   "execution_count": 10,
   "metadata": {},
   "outputs": [
    {
     "name": "stdout",
     "output_type": "stream",
     "text": [
      "[1] 10\n",
      "[1] 20\n",
      "[1] 30\n",
      "[1] 40\n",
      "[1] 50\n",
      "[1] 60\n",
      "[1] 70\n",
      "[1] 80\n",
      "[1] 90\n",
      "[1] 100\n"
     ]
    }
   ],
   "source": [
    "Nbr <- 1 \n",
    "\n",
    "while ( Nbr <= 10 ) {\n",
    "    \n",
    "    print( Nbr * 10 )\n",
    "    \n",
    "    Nbr = Nbr + 1 \n",
    "}"
   ]
  },
  {
   "cell_type": "code",
   "execution_count": null,
   "metadata": {},
   "outputs": [],
   "source": []
  },
  {
   "cell_type": "markdown",
   "metadata": {},
   "source": [
    "BREAK Statement in WHILE Loop"
   ]
  },
  {
   "cell_type": "code",
   "execution_count": 14,
   "metadata": {},
   "outputs": [
    {
     "name": "stdout",
     "output_type": "stream",
     "text": [
      "[1] 10\n",
      "[1] 20\n",
      "[1] 30\n",
      "[1] 40\n",
      "[1] 50\n",
      "[1] 60\n",
      "[1] 70\n",
      "[1] 80\n",
      "[1] 90\n",
      "[1] 100\n"
     ]
    }
   ],
   "source": [
    "Nbr <- 1 \n",
    "\n",
    "Abnrml_Cond <- FALSE\n",
    "\n",
    "while ( Nbr <= 10 ) {\n",
    "    \n",
    "    if(Abnrml_Cond == TRUE) break\n",
    "    \n",
    "    print( Nbr * 10 )\n",
    "    \n",
    "    Nbr = Nbr + 1 \n",
    "}"
   ]
  },
  {
   "cell_type": "code",
   "execution_count": 13,
   "metadata": {},
   "outputs": [],
   "source": [
    "Nbr <- 1 \n",
    "\n",
    "Abnrml_Cond <- TRUE\n",
    "\n",
    "while ( Nbr <= 10 ) {\n",
    "    \n",
    "    if(Abnrml_Cond == TRUE) break\n",
    "    \n",
    "    print( Nbr * 10 )\n",
    "    \n",
    "    Nbr = Nbr + 1 \n",
    "}"
   ]
  },
  {
   "cell_type": "code",
   "execution_count": null,
   "metadata": {},
   "outputs": [],
   "source": []
  },
  {
   "cell_type": "markdown",
   "metadata": {},
   "source": [
    "5) FOR Loop \n",
    "------"
   ]
  },
  {
   "cell_type": "code",
   "execution_count": 18,
   "metadata": {},
   "outputs": [
    {
     "name": "stdout",
     "output_type": "stream",
     "text": [
      "[1] \"Brazil\"\n",
      "[1] \"Russia\"\n",
      "[1] \"India\"\n",
      "[1] \"China\"\n"
     ]
    }
   ],
   "source": [
    "# FOR Loop :Approach 1\n",
    "\n",
    "Countries <- c( 'Brazil' , 'Russia' , 'India' , 'China')\n",
    "\n",
    "for (i in Countries) {\n",
    "    \n",
    "    print(i)\n",
    "}"
   ]
  },
  {
   "cell_type": "code",
   "execution_count": 24,
   "metadata": {},
   "outputs": [
    {
     "name": "stdout",
     "output_type": "stream",
     "text": [
      "[1] \"1  :  Brazil\"\n",
      "[1] \"2  :  Russia\"\n",
      "[1] \"3  :  India\"\n",
      "[1] \"4  :  China\"\n"
     ]
    }
   ],
   "source": [
    "# FOR Loop :Approach 2\n",
    "\n",
    "Countries <- c( 'Brazil' , 'Russia' , 'India' , 'China')\n",
    "\n",
    "for (i in 1:length(Countries) ) {\n",
    "    \n",
    "    print( paste(i , ' : ' , Countries[i]))\n",
    "}"
   ]
  },
  {
   "cell_type": "code",
   "execution_count": null,
   "metadata": {},
   "outputs": [],
   "source": []
  },
  {
   "cell_type": "markdown",
   "metadata": {},
   "source": [
    "BREAK & NEXT controls in FOR Loop -\n",
    "\n",
    "      BREAK - completely exits the FOR loop \n",
    "\n",
    "      NEXT - skips processing for that specific instance of loop and moved to next instance of the loop"
   ]
  },
  {
   "cell_type": "code",
   "execution_count": null,
   "metadata": {},
   "outputs": [],
   "source": []
  },
  {
   "cell_type": "code",
   "execution_count": 27,
   "metadata": {},
   "outputs": [
    {
     "name": "stdout",
     "output_type": "stream",
     "text": [
      "[1] \"Brazil\"\n",
      "[1] \"Russia\"\n",
      "[1] \"Non BRICs Country , exiting the loop \"\n"
     ]
    }
   ],
   "source": [
    "# FOR Loop : with break\n",
    "\n",
    "Countries <- c( 'Brazil' , 'Russia' , 'France' , 'India' , 'China')\n",
    "\n",
    "for (i in Countries) {'France'\n",
    "    \n",
    "    if ( i == 'France') {\n",
    "        print( 'Non BRICs Country , exiting the loop ')\n",
    "        break\n",
    "    }\n",
    "    \n",
    "    print(i)\n",
    "}"
   ]
  },
  {
   "cell_type": "code",
   "execution_count": 28,
   "metadata": {},
   "outputs": [
    {
     "name": "stdout",
     "output_type": "stream",
     "text": [
      "[1] \"Brazil\"\n",
      "[1] \"Russia\"\n",
      "[1] \"Non BRICs Country , moving to next element in the loop \"\n",
      "[1] \"India\"\n",
      "[1] \"China\"\n"
     ]
    }
   ],
   "source": [
    "# FOR Loop : with next\n",
    "\n",
    "Countries <- c( 'Brazil' , 'Russia' , 'France' , 'India' , 'China')\n",
    "\n",
    "for (i in Countries) {'France'\n",
    "    \n",
    "    if ( i == 'France') {\n",
    "        print( 'Non BRICs Country , moving to next element in the loop ')\n",
    "        next\n",
    "    }\n",
    "    \n",
    "    print(i)\n",
    "}"
   ]
  },
  {
   "cell_type": "code",
   "execution_count": null,
   "metadata": {},
   "outputs": [],
   "source": []
  },
  {
   "cell_type": "code",
   "execution_count": null,
   "metadata": {},
   "outputs": [],
   "source": []
  },
  {
   "cell_type": "code",
   "execution_count": null,
   "metadata": {},
   "outputs": [],
   "source": []
  }
 ],
 "metadata": {
  "kernelspec": {
   "display_name": "R",
   "language": "R",
   "name": "ir"
  },
  "language_info": {
   "codemirror_mode": "r",
   "file_extension": ".r",
   "mimetype": "text/x-r-source",
   "name": "R",
   "pygments_lexer": "r",
   "version": "3.5.1"
  }
 },
 "nbformat": 4,
 "nbformat_minor": 2
}
