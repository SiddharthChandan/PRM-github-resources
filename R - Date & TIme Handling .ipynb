{
 "cells": [
  {
   "cell_type": "markdown",
   "metadata": {},
   "source": [
    "# Date & Time Handling in R \n",
    "\n",
    "Priyaranjan Mohanty"
   ]
  },
  {
   "cell_type": "code",
   "execution_count": null,
   "metadata": {},
   "outputs": [],
   "source": []
  },
  {
   "cell_type": "markdown",
   "metadata": {},
   "source": [
    "### Getting system Date \n",
    "\n",
    "Sys.Date( ) returns today's date only.\n",
    "\n",
    "date() returns the current date and time. \n",
    "\n",
    "Both Sys.Date() & date() are from base package."
   ]
  },
  {
   "cell_type": "code",
   "execution_count": 27,
   "metadata": {},
   "outputs": [
    {
     "data": {
      "text/html": [
       "<time datetime=\"2019-03-29\">2019-03-29</time>"
      ],
      "text/latex": [
       "2019-03-29"
      ],
      "text/markdown": [
       "2019-03-29"
      ],
      "text/plain": [
       "[1] \"2019-03-29\""
      ]
     },
     "metadata": {},
     "output_type": "display_data"
    }
   ],
   "source": [
    "# Fetch the Current Date [ only Date part will be fetched]\n",
    "\n",
    "Sys.Date( ) "
   ]
  },
  {
   "cell_type": "code",
   "execution_count": 28,
   "metadata": {},
   "outputs": [
    {
     "data": {
      "text/html": [
       "'Fri Mar 29 20:30:46 2019'"
      ],
      "text/latex": [
       "'Fri Mar 29 20:30:46 2019'"
      ],
      "text/markdown": [
       "'Fri Mar 29 20:30:46 2019'"
      ],
      "text/plain": [
       "[1] \"Fri Mar 29 20:30:46 2019\""
      ]
     },
     "metadata": {},
     "output_type": "display_data"
    }
   ],
   "source": [
    "# Fetch the Current Date & Time \n",
    "\n",
    "date()"
   ]
  },
  {
   "cell_type": "code",
   "execution_count": null,
   "metadata": {},
   "outputs": [],
   "source": []
  },
  {
   "cell_type": "markdown",
   "metadata": {},
   "source": [
    "### Base Date/Time classes in R \n",
    "\n",
    "Three date/time classes are built-in in R :-\n",
    "\n",
    "          1) Date, \n",
    "\n",
    "          2) POSIXct, \n",
    "          \n",
    "          3) POSIXlt."
   ]
  },
  {
   "cell_type": "markdown",
   "metadata": {},
   "source": [
    "1) Date \n",
    "---"
   ]
  },
  {
   "cell_type": "markdown",
   "metadata": {},
   "source": [
    "Date class only stores date component and no time is stored."
   ]
  },
  {
   "cell_type": "markdown",
   "metadata": {},
   "source": [
    "We Can convert a date given in String format into Date type by using as.Date() conversion method"
   ]
  },
  {
   "cell_type": "code",
   "execution_count": 46,
   "metadata": {},
   "outputs": [
    {
     "data": {
      "text/html": [
       "'character'"
      ],
      "text/latex": [
       "'character'"
      ],
      "text/markdown": [
       "'character'"
      ],
      "text/plain": [
       "[1] \"character\""
      ]
     },
     "metadata": {},
     "output_type": "display_data"
    },
    {
     "data": {
      "text/html": [
       "'2019-03-31'"
      ],
      "text/latex": [
       "'2019-03-31'"
      ],
      "text/markdown": [
       "'2019-03-31'"
      ],
      "text/plain": [
       "[1] \"2019-03-31\""
      ]
     },
     "metadata": {},
     "output_type": "display_data"
    }
   ],
   "source": [
    "# Date in String format \n",
    "Date_Str <- '2019-03-31'\n",
    "\n",
    "# Display the class of the Date stored in String variable \n",
    "class(Date_Str)\n",
    "\n",
    "Date_Str\n"
   ]
  },
  {
   "cell_type": "markdown",
   "metadata": {},
   "source": [
    "as.Date() \n",
    "--------\n",
    "\n",
    "This function is available within Base package of R & can be used to convert R date in String\n",
    "Format into a Date format.\n",
    "\n",
    "Note - The default format is a four digit year, followed by a month, then a day, separated by either dashes or slashes. "
   ]
  },
  {
   "cell_type": "code",
   "execution_count": 47,
   "metadata": {},
   "outputs": [
    {
     "data": {
      "text/html": [
       "'Date'"
      ],
      "text/latex": [
       "'Date'"
      ],
      "text/markdown": [
       "'Date'"
      ],
      "text/plain": [
       "[1] \"Date\""
      ]
     },
     "metadata": {},
     "output_type": "display_data"
    },
    {
     "data": {
      "text/html": [
       "<time datetime=\"2019-03-31\">2019-03-31</time>"
      ],
      "text/latex": [
       "2019-03-31"
      ],
      "text/markdown": [
       "2019-03-31"
      ],
      "text/plain": [
       "[1] \"2019-03-31\""
      ]
     },
     "metadata": {},
     "output_type": "display_data"
    }
   ],
   "source": [
    "# Convert date in string class to built-in Date class of R \n",
    "Date_var <- as.Date(Date_Str)\n",
    "\n",
    "# Display the class of the Date stored in Date variable\n",
    "class(Date_var)\n",
    "\n",
    "Date_var"
   ]
  },
  {
   "cell_type": "code",
   "execution_count": null,
   "metadata": {},
   "outputs": [],
   "source": []
  },
  {
   "cell_type": "markdown",
   "metadata": {},
   "source": [
    "Any foramt of date in the string other than 'YYYY-MM-DD' or 'YYYY/MM/DD' will throw error"
   ]
  },
  {
   "cell_type": "code",
   "execution_count": 48,
   "metadata": {},
   "outputs": [
    {
     "ename": "ERROR",
     "evalue": "Error in charToDate(x): character string is not in a standard unambiguous format\n",
     "output_type": "error",
     "traceback": [
      "Error in charToDate(x): character string is not in a standard unambiguous format\nTraceback:\n",
      "1. as.Date(\"2019-31-03\")",
      "2. as.Date.character(\"2019-31-03\")",
      "3. charToDate(x)",
      "4. stop(\"character string is not in a standard unambiguous format\")"
     ]
    }
   ],
   "source": [
    "as.Date('2019-31-03')"
   ]
  },
  {
   "cell_type": "code",
   "execution_count": null,
   "metadata": {},
   "outputs": [],
   "source": []
  },
  {
   "cell_type": "markdown",
   "metadata": {},
   "source": [
    "### Handling date string whose format is other than 'YYYY-MM-DD'\n",
    "\n",
    "We can use the as.Date( ) function to convert character data to dates. \n",
    "\n",
    "The format is as.Date(x, \"format\"), \n",
    "\n",
    "where x is the character data and format gives the appropriate format. \n",
    "\n",
    "\n",
    "\n",
    "#### The following symbols can be used with the format\n",
    "\n",
    "\n",
    "\n",
    "%d\n",
    "--\n",
    "day as a number (0-31) \n",
    "\n",
    "01-31\n",
    "\n",
    "%a\n",
    "--\n",
    "abbreviated weekday \n",
    "\n",
    "Mon\n",
    "\n",
    "%A\n",
    "--\n",
    "unabbreviated weekday \n",
    "\n",
    "Monday\n",
    "\n",
    "%m\n",
    "--\n",
    "month (00-12) \n",
    "\n",
    "00-12\n",
    "\n",
    "%b\n",
    "--\n",
    "abbreviated month\n",
    "\n",
    "Jan\n",
    "\n",
    "%B\n",
    "--\n",
    "unabbreviated month \n",
    "\n",
    "January\n",
    "\n",
    "%y\n",
    "--\n",
    "2-digit year \n",
    "\n",
    "07\n",
    "\n",
    "%Y\n",
    "--\n",
    "4-digit year \n",
    "\n",
    "2007"
   ]
  },
  {
   "cell_type": "code",
   "execution_count": null,
   "metadata": {},
   "outputs": [],
   "source": []
  },
  {
   "cell_type": "markdown",
   "metadata": {},
   "source": [
    "### Now using format option of as.Date() , we can convert a string with any date format into a R Date Type"
   ]
  },
  {
   "cell_type": "code",
   "execution_count": 52,
   "metadata": {},
   "outputs": [
    {
     "data": {
      "text/html": [
       "<time datetime=\"2019-03-31\">2019-03-31</time>"
      ],
      "text/latex": [
       "2019-03-31"
      ],
      "text/markdown": [
       "2019-03-31"
      ],
      "text/plain": [
       "[1] \"2019-03-31\""
      ]
     },
     "metadata": {},
     "output_type": "display_data"
    }
   ],
   "source": [
    "# Converting a Date string of format 'YYYY.MM.DD' into R Date type\n",
    "\n",
    "as.Date('31.03.2019', '%d.%m.%Y')"
   ]
  },
  {
   "cell_type": "code",
   "execution_count": 53,
   "metadata": {},
   "outputs": [
    {
     "data": {
      "text/html": [
       "<time datetime=\"2019-03-31\">2019-03-31</time>"
      ],
      "text/latex": [
       "2019-03-31"
      ],
      "text/markdown": [
       "2019-03-31"
      ],
      "text/plain": [
       "[1] \"2019-03-31\""
      ]
     },
     "metadata": {},
     "output_type": "display_data"
    }
   ],
   "source": [
    "# Converting a Date string of format 'DD Month YYYY' into R Date type\n",
    "\n",
    "as.Date('31 March 2019', '%d %B %Y')"
   ]
  },
  {
   "cell_type": "code",
   "execution_count": null,
   "metadata": {},
   "outputs": [],
   "source": []
  },
  {
   "cell_type": "code",
   "execution_count": null,
   "metadata": {},
   "outputs": [],
   "source": []
  },
  {
   "cell_type": "markdown",
   "metadata": {},
   "source": [
    "Internally with in R , Dates are stored as integer number which represents number of days since 1st Jan 1970\n",
    "-------\n",
    "\n",
    "Dates earlier than 1st Jan 1970 are stored as relative Negative numbers."
   ]
  },
  {
   "cell_type": "code",
   "execution_count": 19,
   "metadata": {},
   "outputs": [
    {
     "data": {
      "text/html": [
       "'double'"
      ],
      "text/latex": [
       "'double'"
      ],
      "text/markdown": [
       "'double'"
      ],
      "text/plain": [
       "[1] \"double\""
      ]
     },
     "metadata": {},
     "output_type": "display_data"
    }
   ],
   "source": [
    "# Check the output of typeof() for R date variable , \n",
    "# it shows that dates are stored interanlly as a numeric value\n",
    "\n",
    "typeof(Date_var)"
   ]
  },
  {
   "cell_type": "code",
   "execution_count": null,
   "metadata": {},
   "outputs": [],
   "source": []
  },
  {
   "cell_type": "code",
   "execution_count": 60,
   "metadata": {},
   "outputs": [
    {
     "data": {
      "text/html": [
       "17986"
      ],
      "text/latex": [
       "17986"
      ],
      "text/markdown": [
       "17986"
      ],
      "text/plain": [
       "[1] 17986"
      ]
     },
     "metadata": {},
     "output_type": "display_data"
    }
   ],
   "source": [
    "# Check the value when we convert a date into an integer \n",
    "# The returned integer is actually number of days since 1st jan 1970\n",
    "\n",
    "as.numeric(Date_var)"
   ]
  },
  {
   "cell_type": "code",
   "execution_count": null,
   "metadata": {},
   "outputs": [],
   "source": []
  },
  {
   "cell_type": "code",
   "execution_count": 10,
   "metadata": {},
   "outputs": [
    {
     "data": {
      "text/plain": [
       "Time difference of 17986 days"
      ]
     },
     "metadata": {},
     "output_type": "display_data"
    }
   ],
   "source": [
    "# The above point can be proved by finding the difference between \n",
    "# the date variable  & 1st Jan 1970\n",
    "# you will notice that the output of the value returned by the difference is same as \n",
    "# integer value stored for the date.\n",
    "\n",
    "Date_var - as.Date('1970-01-01')"
   ]
  },
  {
   "cell_type": "code",
   "execution_count": null,
   "metadata": {},
   "outputs": [],
   "source": []
  },
  {
   "cell_type": "code",
   "execution_count": 23,
   "metadata": {},
   "outputs": [
    {
     "data": {
      "text/html": [
       "-1"
      ],
      "text/latex": [
       "-1"
      ],
      "text/markdown": [
       "-1"
      ],
      "text/plain": [
       "[1] -1"
      ]
     },
     "metadata": {},
     "output_type": "display_data"
    }
   ],
   "source": [
    "# Date earlier than 1st Jan 1970 gets stored as Ne\n",
    "\n",
    "Date_b4_1970 <- as.Date('1969-12-31')\n",
    "\n",
    "as.integer(Date_b4_1970)"
   ]
  },
  {
   "cell_type": "code",
   "execution_count": null,
   "metadata": {},
   "outputs": [],
   "source": []
  },
  {
   "cell_type": "markdown",
   "metadata": {},
   "source": [
    "#### Displaying a Date in a specific Format "
   ]
  },
  {
   "cell_type": "code",
   "execution_count": 56,
   "metadata": {},
   "outputs": [
    {
     "data": {
      "text/html": [
       "<time datetime=\"2019-03-29\">2019-03-29</time>"
      ],
      "text/latex": [
       "2019-03-29"
      ],
      "text/markdown": [
       "2019-03-29"
      ],
      "text/plain": [
       "[1] \"2019-03-29\""
      ]
     },
     "metadata": {},
     "output_type": "display_data"
    }
   ],
   "source": [
    "Today_Date <- Sys.Date()\n",
    "\n",
    "Today_Date"
   ]
  },
  {
   "cell_type": "code",
   "execution_count": 58,
   "metadata": {},
   "outputs": [
    {
     "data": {
      "text/html": [
       "'Friday'"
      ],
      "text/latex": [
       "'Friday'"
      ],
      "text/markdown": [
       "'Friday'"
      ],
      "text/plain": [
       "[1] \"Friday\""
      ]
     },
     "metadata": {},
     "output_type": "display_data"
    }
   ],
   "source": [
    "# Display the Week Day from the Date\n",
    "format(Today_Date , '%A')"
   ]
  },
  {
   "cell_type": "code",
   "execution_count": 59,
   "metadata": {},
   "outputs": [
    {
     "data": {
      "text/html": [
       "'March 29 , 2019'"
      ],
      "text/latex": [
       "'March 29 , 2019'"
      ],
      "text/markdown": [
       "'March 29 , 2019'"
      ],
      "text/plain": [
       "[1] \"March 29 , 2019\""
      ]
     },
     "metadata": {},
     "output_type": "display_data"
    }
   ],
   "source": [
    "# Display the Date in the format of 'Month DD , YYYY'\n",
    "format(Today_Date , '%B %d , %Y')"
   ]
  },
  {
   "cell_type": "code",
   "execution_count": null,
   "metadata": {},
   "outputs": [],
   "source": []
  },
  {
   "cell_type": "markdown",
   "metadata": {},
   "source": [
    "### To extract the components of the dates, following functions can be used :-\n",
    "\n",
    "weekdays() \n",
    "\n",
    "months() \n",
    "\n",
    "quarters()"
   ]
  },
  {
   "cell_type": "code",
   "execution_count": 67,
   "metadata": {},
   "outputs": [
    {
     "data": {
      "text/html": [
       "'Friday'"
      ],
      "text/latex": [
       "'Friday'"
      ],
      "text/markdown": [
       "'Friday'"
      ],
      "text/plain": [
       "[1] \"Friday\""
      ]
     },
     "metadata": {},
     "output_type": "display_data"
    }
   ],
   "source": [
    "# Get the Weekday from the Date\n",
    "\n",
    "weekdays(Sys.Date())"
   ]
  },
  {
   "cell_type": "code",
   "execution_count": 62,
   "metadata": {},
   "outputs": [
    {
     "data": {
      "text/html": [
       "'March'"
      ],
      "text/latex": [
       "'March'"
      ],
      "text/markdown": [
       "'March'"
      ],
      "text/plain": [
       "[1] \"March\""
      ]
     },
     "metadata": {},
     "output_type": "display_data"
    }
   ],
   "source": [
    "# Get the month name from the Date \n",
    "\n",
    "months(Sys.Date())"
   ]
  },
  {
   "cell_type": "code",
   "execution_count": 66,
   "metadata": {},
   "outputs": [
    {
     "data": {
      "text/html": [
       "'Q1'"
      ],
      "text/latex": [
       "'Q1'"
      ],
      "text/markdown": [
       "'Q1'"
      ],
      "text/plain": [
       "[1] \"Q1\""
      ]
     },
     "metadata": {},
     "output_type": "display_data"
    }
   ],
   "source": [
    "# Get the Quarter number ( Q1 / Q2 / Q3 / Q4 ) from the date\n",
    "\n",
    "quarters(Sys.Date())"
   ]
  },
  {
   "cell_type": "code",
   "execution_count": null,
   "metadata": {},
   "outputs": [],
   "source": []
  },
  {
   "cell_type": "markdown",
   "metadata": {},
   "source": [
    "## Stay Tuned , will add content on using Lubridate Package for Date handling"
   ]
  },
  {
   "cell_type": "code",
   "execution_count": 1,
   "metadata": {},
   "outputs": [
    {
     "name": "stderr",
     "output_type": "stream",
     "text": [
      "Installing package into 'C:/Users/itzpr/OneDrive/Documents/R/win-library/3.5'\n",
      "(as 'lib' is unspecified)\n"
     ]
    },
    {
     "name": "stdout",
     "output_type": "stream",
     "text": [
      "package 'lubridate' successfully unpacked and MD5 sums checked\n",
      "\n",
      "The downloaded binary packages are in\n",
      "\tC:\\Users\\itzpr\\AppData\\Local\\Temp\\RtmpsX9Rhs\\downloaded_packages\n"
     ]
    }
   ],
   "source": [
    "install.packages(\"lubridate\", repos='http://cran.us.r-project.org')"
   ]
  },
  {
   "cell_type": "code",
   "execution_count": null,
   "metadata": {},
   "outputs": [],
   "source": []
  },
  {
   "cell_type": "code",
   "execution_count": null,
   "metadata": {},
   "outputs": [],
   "source": []
  },
  {
   "cell_type": "code",
   "execution_count": null,
   "metadata": {},
   "outputs": [],
   "source": []
  },
  {
   "cell_type": "code",
   "execution_count": null,
   "metadata": {},
   "outputs": [],
   "source": []
  },
  {
   "cell_type": "code",
   "execution_count": null,
   "metadata": {},
   "outputs": [],
   "source": []
  }
 ],
 "metadata": {
  "kernelspec": {
   "display_name": "R",
   "language": "R",
   "name": "ir"
  },
  "language_info": {
   "codemirror_mode": "r",
   "file_extension": ".r",
   "mimetype": "text/x-r-source",
   "name": "R",
   "pygments_lexer": "r",
   "version": "3.5.1"
  }
 },
 "nbformat": 4,
 "nbformat_minor": 2
}
